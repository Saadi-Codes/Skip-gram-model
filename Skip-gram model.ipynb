{
  "nbformat": 4,
  "nbformat_minor": 0,
  "metadata": {
    "colab": {
      "provenance": [],
      "gpuType": "T4"
    },
    "kernelspec": {
      "name": "python3",
      "display_name": "Python 3"
    },
    "language_info": {
      "name": "python"
    },
    "accelerator": "GPU"
  },
  "cells": [
    {
      "cell_type": "markdown",
      "source": [
        "# **SAAD AHMED | BCS 6D | 22k-4345**"
      ],
      "metadata": {
        "id": "ADUZ54x9RTt4"
      }
    },
    {
      "cell_type": "code",
      "execution_count": null,
      "metadata": {
        "colab": {
          "base_uri": "https://localhost:8080/"
        },
        "id": "Ncwz58X_h8f_",
        "outputId": "18da729b-ff2d-4631-89c4-e8781f849ff6"
      },
      "outputs": [
        {
          "output_type": "stream",
          "name": "stdout",
          "text": [
            "Text corpus created successfully.\n"
          ]
        }
      ],
      "source": [
        "corpus = \"\"\"Deep learning is amazing. Machine learning is powerful. AI is the future. Data science is the new frontier.\n",
        "Computers can learn from data. Data is crucial for AI.\"\"\"\n",
        "\n",
        "with open(\"text_corpus.txt\", \"w\") as file:\n",
        "    file.write(corpus)\n",
        "\n",
        "print(\"Text corpus created successfully.\")\n"
      ]
    },
    {
      "cell_type": "code",
      "source": [
        "!pip install nltk --quiet"
      ],
      "metadata": {
        "id": "0x3bnEHWipDf"
      },
      "execution_count": null,
      "outputs": []
    },
    {
      "cell_type": "markdown",
      "source": [
        "# **TASK 1**"
      ],
      "metadata": {
        "id": "eUChEB4UQbjg"
      }
    },
    {
      "cell_type": "code",
      "source": [
        "import string\n",
        "import nltk\n",
        "from nltk.corpus import stopwords\n",
        "nltk.download('stopwords')\n",
        "\n",
        "with open(\"text_corpus.txt\", \"r\") as file:\n",
        "    text = file.read().lower()\n",
        "\n",
        "text = text.translate(str.maketrans('', '', string.punctuation))\n",
        "\n",
        "tokens = text.split()\n",
        "\n",
        "stop_words = set(stopwords.words('english'))\n",
        "tokens = [word for word in tokens if word not in stop_words]\n",
        "\n",
        "vocab = sorted(set(tokens))\n",
        "word2idx = {word: idx for idx, word in enumerate(vocab)}\n",
        "idx2word = {idx: word for word, idx in word2idx.items()}\n",
        "\n",
        "print(\"✅ Preprocessing complete!\")\n",
        "print(\"Vocabulary Size:\", len(vocab))\n",
        "print(\"Sample Tokens:\", tokens[:10])\n"
      ],
      "metadata": {
        "colab": {
          "base_uri": "https://localhost:8080/"
        },
        "id": "2ZzRnQjwiwOT",
        "outputId": "19ec4b04-39db-4a31-b569-d7f41c44e325"
      },
      "execution_count": null,
      "outputs": [
        {
          "output_type": "stream",
          "name": "stdout",
          "text": [
            "✅ Preprocessing complete!\n",
            "Vocabulary Size: 14\n",
            "Sample Tokens: ['deep', 'learning', 'amazing', 'machine', 'learning', 'powerful', 'ai', 'future', 'data', 'science']\n"
          ]
        },
        {
          "output_type": "stream",
          "name": "stderr",
          "text": [
            "[nltk_data] Downloading package stopwords to /root/nltk_data...\n",
            "[nltk_data]   Package stopwords is already up-to-date!\n"
          ]
        }
      ]
    },
    {
      "cell_type": "markdown",
      "source": [
        "# **TASK 2**"
      ],
      "metadata": {
        "id": "2n0WI7CVQkSq"
      }
    },
    {
      "cell_type": "code",
      "source": [
        "window_size = 2\n",
        "skip_gram_pairs = []\n",
        "\n",
        "for i, target_word in enumerate(tokens):\n",
        "    target_idx = word2idx[target_word]\n",
        "\n",
        "    for j in range(i - window_size, i + window_size + 1):\n",
        "        if j != i and j >= 0 and j < len(tokens):\n",
        "            context_word = tokens[j]\n",
        "            context_idx = word2idx[context_word]\n",
        "            skip_gram_pairs.append((target_idx, context_idx))\n",
        "\n",
        "print(\"Total training pairs:\", len(skip_gram_pairs))\n",
        "print(\"Example pairs (word-level):\")\n",
        "for i in range(5):\n",
        "    t, c = skip_gram_pairs[i]\n",
        "    print(f\"({idx2word[t]}, {idx2word[c]})\")\n"
      ],
      "metadata": {
        "colab": {
          "base_uri": "https://localhost:8080/"
        },
        "id": "TuIfAGK8lFVT",
        "outputId": "9e6edfdd-c0f0-459f-ae8c-750624cda73f"
      },
      "execution_count": null,
      "outputs": [
        {
          "output_type": "stream",
          "name": "stdout",
          "text": [
            "Total training pairs: 66\n",
            "Example pairs (word-level):\n",
            "(deep, learning)\n",
            "(deep, amazing)\n",
            "(learning, deep)\n",
            "(learning, amazing)\n",
            "(learning, machine)\n"
          ]
        }
      ]
    },
    {
      "cell_type": "markdown",
      "source": [
        "# **TASK 3**"
      ],
      "metadata": {
        "id": "0tKiL0TBQpTc"
      }
    },
    {
      "cell_type": "code",
      "source": [
        "import torch\n",
        "import torch.nn as nn\n",
        "import torch.optim as optim\n",
        "\n",
        "class SkipGramModel(nn.Module):\n",
        "    def __init__(self, vocab_size, embedding_dim):\n",
        "        super(SkipGramModel, self).__init__()\n",
        "        self.embeddings = nn.Embedding(vocab_size, embedding_dim)\n",
        "        self.output = nn.Linear(embedding_dim, vocab_size)\n",
        "\n",
        "    def forward(self, input_word):\n",
        "        emb = self.embeddings(input_word)\n",
        "        out = self.output(emb)\n",
        "        return out\n",
        "\n",
        "embedding_dim =  10\n",
        "vocab_size = len(vocab)\n",
        "model = SkipGramModel(vocab_size,embedding_dim)\n",
        "\n",
        "criterion = nn.CrossEntropyLoss()\n",
        "optimizer = optim.Adam(model.parameters(), lr=0.01)\n",
        "\n",
        "print(\"Model defined and ready to train!\")\n"
      ],
      "metadata": {
        "colab": {
          "base_uri": "https://localhost:8080/"
        },
        "id": "01iEErHTlbCy",
        "outputId": "056bd42e-18c2-4b3c-e736-391d03714835"
      },
      "execution_count": null,
      "outputs": [
        {
          "output_type": "stream",
          "name": "stdout",
          "text": [
            "Model defined and ready to train!\n"
          ]
        }
      ]
    },
    {
      "cell_type": "markdown",
      "source": [
        "# **TASK 4**"
      ],
      "metadata": {
        "id": "xuCC70tkQwp2"
      }
    },
    {
      "cell_type": "code",
      "source": [
        "inputs, targets = zip(*skip_gram_pairs)\n",
        "inputs = torch.tensor(inputs, dtype=torch.long)\n",
        "targets = torch.tensor(targets, dtype=torch.long)\n",
        "\n",
        "num_epochs = 500\n",
        "for epoch in range(num_epochs):\n",
        "    optimizer.zero_grad()\n",
        "\n",
        "    outputs = model(inputs)\n",
        "\n",
        "    loss = criterion(outputs, targets)\n",
        "\n",
        "    loss.backward()\n",
        "    optimizer.step()\n",
        "\n",
        "    #loss after every 50 epochs\n",
        "    if (epoch + 1) % 50 == 0:\n",
        "        print(f\"Epoch [{epoch+1}/{num_epochs}], Loss: {loss.item():.4f}\")\n",
        "\n",
        "print(\"Training is complte!\")\n",
        "\n",
        "torch.save(model.embeddings.weight.data, \"word_embeddings.pth\")\n",
        "print(\"Word embeddings iz saved!\")\n"
      ],
      "metadata": {
        "colab": {
          "base_uri": "https://localhost:8080/"
        },
        "id": "7E6cAZxfl0Gf",
        "outputId": "ca8cf29d-d378-49ee-c00f-cef5e42be240"
      },
      "execution_count": null,
      "outputs": [
        {
          "output_type": "stream",
          "name": "stdout",
          "text": [
            "Epoch [50/500], Loss: 1.7290\n",
            "Epoch [100/500], Loss: 1.4630\n",
            "Epoch [150/500], Loss: 1.4325\n",
            "Epoch [200/500], Loss: 1.4253\n",
            "Epoch [250/500], Loss: 1.4223\n",
            "Epoch [300/500], Loss: 1.4207\n",
            "Epoch [350/500], Loss: 1.4198\n",
            "Epoch [400/500], Loss: 1.4192\n",
            "Epoch [450/500], Loss: 1.4188\n",
            "Epoch [500/500], Loss: 1.4185\n",
            "Training is complte!\n",
            "Word embeddings iz saved!\n"
          ]
        }
      ]
    },
    {
      "cell_type": "code",
      "source": [
        "!pip install matplotlib scikit-learn --quiet"
      ],
      "metadata": {
        "id": "eCQxeRqCma6o"
      },
      "execution_count": null,
      "outputs": []
    },
    {
      "cell_type": "code",
      "source": [
        "import matplotlib.pyplot as plt\n",
        "from sklearn.manifold import TSNE\n",
        "\n",
        "embeddings = model.embeddings.weight.data.cpu().numpy()\n",
        "\n",
        "tsne = TSNE(n_components=2,random_state=42, perplexity=3)\n",
        "embeddings_2d = tsne.fit_transform(embeddings)\n",
        "plt.figure(figsize=(10, 7))\n",
        "for idx, word in idx2word.items():\n",
        "    x, y = embeddings_2d[idx]\n",
        "    plt.scatter(x, y)\n",
        "    plt.text(x + 0.01, y + 0.01, word, fontsize=10)\n",
        "\n",
        "plt.title(\"Word Embeddings Visualization (t-SNE)\")\n",
        "plt.grid(True)\n",
        "plt.show()\n"
      ],
      "metadata": {
        "colab": {
          "base_uri": "https://localhost:8080/",
          "height": 622
        },
        "id": "0cZpZxFOmivA",
        "outputId": "f61f19ee-de6a-42bd-bd7e-43e892e2264d"
      },
      "execution_count": null,
      "outputs": [
        {
          "output_type": "display_data",
          "data": {
            "text/plain": [
              "<Figure size 1000x700 with 1 Axes>"
            ],
            "image/png": "[encoded data removed]"
          },
          "metadata": {}
        }
      ]
    },
    {
      "cell_type": "markdown",
      "source": [
        "# **TASK 5**"
      ],
      "metadata": {
        "id": "YjKwhgiPQxCn"
      }
    },
    {
      "cell_type": "code",
      "source": [
        "window_size = 2\n",
        "cbow_pairs = []\n",
        "\n",
        "for i in range(window_size, len(tokens) - window_size):\n",
        "    context = []\n",
        "    for j in range(i - window_size, i + window_size + 1):\n",
        "        if j != i:\n",
        "            context.append(word2idx[tokens[j]])\n",
        "    target = word2idx[tokens[i]]\n",
        "    cbow_pairs.append((context, target))\n",
        "\n",
        "print(\"✅ CBOW training pairs:\",len(cbow_pairs))\n",
        "print(\"Example (context indexes -> target index):\")\n",
        "for i in range(3):\n",
        "    print(cbow_pairs[i])\n"
      ],
      "metadata": {
        "colab": {
          "base_uri": "https://localhost:8080/"
        },
        "id": "MLIrVy2SnCXb",
        "outputId": "f1ccaf2d-ec4c-4edb-e437-a97d7c434975"
      },
      "execution_count": null,
      "outputs": [
        {
          "output_type": "stream",
          "name": "stdout",
          "text": [
            "✅ CBOW training pairs: 14\n",
            "Example (context indexes -> target index):\n",
            "([5, 9, 10, 9], 1)\n",
            "([9, 1, 9, 12], 10)\n",
            "([1, 10, 12, 0], 9)\n"
          ]
        }
      ]
    },
    {
      "cell_type": "code",
      "source": [
        "class CBOWModel(nn.Module):\n",
        "    def __init__(self, vocab_size, embedding_dim):\n",
        "        super(CBOWModel, self).__init__()\n",
        "        self.embeddings = nn.Embedding(vocab_size, embedding_dim)\n",
        "        self.linear = nn.Linear(embedding_dim, vocab_size)\n",
        "\n",
        "    def forward(self, context_words):\n",
        "        embeds = self.embeddings(context_words)\n",
        "        combined = embeds.mean(dim=1)\n",
        "        out = self.linear(combined)\n",
        "        return out\n",
        "\n",
        "cbow_model = CBOWModel(vocab_size, embedding_dim)\n",
        "cbow_criterion = nn.CrossEntropyLoss()\n",
        "cbow_optimizer = optim.Adam(cbow_model.parameters(), lr=0.01)\n"
      ],
      "metadata": {
        "id": "G29oxAQbnKi-"
      },
      "execution_count": null,
      "outputs": []
    },
    {
      "cell_type": "code",
      "source": [
        "for epoch in range(300):\n",
        "    total_loss = 0\n",
        "    for context, target in cbow_pairs:\n",
        "        context_tensor = torch.tensor([context], dtype=torch.long)\n",
        "        target_tensor = torch.tensor([target], dtype=torch.long)\n",
        "        cbow_optimizer.zero_grad()\n",
        "        output = cbow_model(context_tensor)\n",
        "\n",
        "        loss = cbow_criterion(output, target_tensor)\n",
        "        loss.backward()\n",
        "        cbow_optimizer.step()\n",
        "        total_loss += loss.item()\n",
        "\n",
        "    if (epoch + 1) % 50 == 0:\n",
        "        print(f\"Epoch [{epoch+1}/300], Loss: {total_loss:.4f}\")\n",
        "\n",
        "print(\"CBOW Training Complete!\")\n"
      ],
      "metadata": {
        "colab": {
          "base_uri": "https://localhost:8080/"
        },
        "id": "mt1w3eETnSkP",
        "outputId": "fbc618d9-d0fa-4de8-9182-1dfddb2fdd7c"
      },
      "execution_count": null,
      "outputs": [
        {
          "output_type": "stream",
          "name": "stdout",
          "text": [
            "Epoch [50/300], Loss: 0.6678\n",
            "Epoch [100/300], Loss: 0.1351\n",
            "Epoch [150/300], Loss: 0.0530\n",
            "Epoch [200/300], Loss: 0.0263\n",
            "Epoch [250/300], Loss: 0.0146\n",
            "Epoch [300/300], Loss: 0.0087\n",
            "CBOW Training Complete!\n"
          ]
        }
      ]
    },
    {
      "cell_type": "code",
      "source": [
        "def get_embedding(word, model):\n",
        "    word_idx = word2idx[word]\n",
        "    return model.embeddings(torch.tensor(word_idx)).detach()\n",
        "\n",
        "def find_analogy(word_a, word_b, word_c, model):\n",
        "    emb_a= get_embedding(word_a, model)\n",
        "    emb_b= get_embedding(word_b, model)\n",
        "    emb_c= get_embedding(word_c, model)\n",
        "    target_vec = emb_b - emb_a + emb_c\n",
        "    similarities=[]\n",
        "\n",
        "    for idx in range(vocab_size):\n",
        "        word_vec = model.embeddings(torch.tensor(idx)).detach()\n",
        "        cos_sim = torch.cosine_similarity(target_vec, word_vec, dim=0)\n",
        "        similarities.append((idx2word[idx], cos_sim.item()))\n",
        "\n",
        "    similarities.sort(key=lambda x: x[1], reverse=True)\n",
        "    return similarities[:5]\n",
        "\n",
        "print(\"Analogy Test: learning - deep + machine ≈ ?\")\n",
        "results = find_analogy(\"deep\", \"learning\", \"machine\", cbow_model)\n",
        "for word, score in results:\n",
        "    print(f\"{word}: {score:.4f}\")\n"
      ],
      "metadata": {
        "colab": {
          "base_uri": "https://localhost:8080/"
        },
        "id": "wVVLRDgRneLj",
        "outputId": "44eaf9a9-775b-4f2c-8783-2ec4268e67f8"
      },
      "execution_count": null,
      "outputs": [
        {
          "output_type": "stream",
          "name": "stdout",
          "text": [
            "Analogy Test: learning - deep + machine ≈ ?\n",
            "machine: 0.7344\n",
            "learning: 0.6160\n",
            "amazing: 0.5790\n",
            "powerful: 0.3113\n",
            "learn: 0.1934\n"
          ]
        }
      ]
    }
  ]
}